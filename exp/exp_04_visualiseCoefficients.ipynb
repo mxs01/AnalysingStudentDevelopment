{
 "cells": [
  {
   "cell_type": "markdown",
   "metadata": {},
   "source": [
    "# What happens if we modfiy the salary?"
   ]
  },
  {
   "cell_type": "code",
   "execution_count": 1,
   "metadata": {
    "execution": {
     "iopub.execute_input": "2024-01-29T11:51:26.690299Z",
     "iopub.status.busy": "2024-01-29T11:51:26.690040Z",
     "iopub.status.idle": "2024-01-29T11:51:27.651314Z",
     "shell.execute_reply": "2024-01-29T11:51:27.651026Z"
    }
   },
   "outputs": [],
   "source": [
    "# To make relative imports work in notebooks\n",
    "import os\n",
    "import sys\n",
    "module_path = os.path.abspath(os.path.join('..'))\n",
    "if module_path not in sys.path:\n",
    "    sys.path.append(module_path)\n",
    "\n",
    "# actual imports\n",
    "from src.constants import YEARS, FIG_DIR, COURSES, SECTORS\n",
    "from src.dataLoading import getTotalStudentsFor, getSalaries, getGraduatesInBwFor, getAllGraduatesYears, getInflationAdjustedGrossSalaries\n",
    "from src.model import fitVarModel\n",
    "import numpy as np\n",
    "import pandas as pd\n",
    "import seaborn as sns\n",
    "import matplotlib.pyplot as plt\n",
    "from tueplots import bundles"
   ]
  },
  {
   "cell_type": "code",
   "execution_count": 2,
   "metadata": {
    "execution": {
     "iopub.execute_input": "2024-01-29T11:51:27.652891Z",
     "iopub.status.busy": "2024-01-29T11:51:27.652760Z",
     "iopub.status.idle": "2024-01-29T11:51:33.319659Z",
     "shell.execute_reply": "2024-01-29T11:51:33.319419Z"
    }
   },
   "outputs": [
    {
     "name": "stderr",
     "output_type": "stream",
     "text": [
      "/Users/maxschnitt/Documents/AnalysingStudentDevelopment/src/dataLoading.py:44: FutureWarning: Setting an item of incompatible dtype is deprecated and will raise in a future error of pandas. Value '56919.375' has dtype incompatible with int64, please explicitly cast to a compatible dtype first.\n",
      "  graduatesInBW.loc[2012, ('Abiturienten insg', 'Anzahl')] = newVal + diff / 4\n",
      "/Users/maxschnitt/Documents/AnalysingStudentDevelopment/src/dataLoading.py:44: FutureWarning: Setting an item of incompatible dtype is deprecated and will raise in a future error of pandas. Value '56919.375' has dtype incompatible with int64, please explicitly cast to a compatible dtype first.\n",
      "  graduatesInBW.loc[2012, ('Abiturienten insg', 'Anzahl')] = newVal + diff / 4\n"
     ]
    }
   ],
   "source": [
    "interestingYears = YEARS[3:-4]\n",
    "totalStudents = getTotalStudentsFor(courses = COURSES, years = interestingYears)\n",
    "\n",
    "inflationAdjustedGrossSalary = getInflationAdjustedGrossSalaries(SECTORS)\n",
    "sallaries = getSalaries()\n",
    "\n",
    "years = getAllGraduatesYears()\n",
    "years = years[37:52]\n",
    "graduatesInBW = getGraduatesInBwFor(years = years)\n",
    "newVal = (graduatesInBW[4] + graduatesInBW[6])/2"
   ]
  },
  {
   "cell_type": "markdown",
   "metadata": {},
   "source": [
    "### Build the model (once again)"
   ]
  },
  {
   "cell_type": "code",
   "execution_count": 3,
   "metadata": {
    "execution": {
     "iopub.execute_input": "2024-01-29T11:51:33.339323Z",
     "iopub.status.busy": "2024-01-29T11:51:33.339210Z",
     "iopub.status.idle": "2024-01-29T11:51:33.340797Z",
     "shell.execute_reply": "2024-01-29T11:51:33.340561Z"
    }
   },
   "outputs": [],
   "source": [
    "LAGS = 5"
   ]
  },
  {
   "cell_type": "code",
   "execution_count": 4,
   "metadata": {
    "execution": {
     "iopub.execute_input": "2024-01-29T11:51:33.342072Z",
     "iopub.status.busy": "2024-01-29T11:51:33.341997Z",
     "iopub.status.idle": "2024-01-29T11:51:33.346092Z",
     "shell.execute_reply": "2024-01-29T11:51:33.345894Z"
    }
   },
   "outputs": [
    {
     "name": "stderr",
     "output_type": "stream",
     "text": [
      "/Users/maxschnitt/miniconda3/envs/data_literacy/lib/python3.11/site-packages/statsmodels/tsa/base/tsa_model.py:559: UserWarning: Could not infer format, so each element will be parsed individually, falling back to `dateutil`. To ensure parsing is consistent and as-expected, please specify a format.\n",
      "  _index = to_datetime(index)\n",
      "/Users/maxschnitt/miniconda3/envs/data_literacy/lib/python3.11/site-packages/statsmodels/tsa/base/tsa_model.py:473: ValueWarning: An unsupported index was provided and will be ignored when e.g. forecasting.\n",
      "  self._init_dates(dates, freq)\n"
     ]
    }
   ],
   "source": [
    "dataset = np.column_stack((totalStudents, inflationAdjustedGrossSalary, graduatesInBW.repeat(2)))\n",
    "results = fitVarModel(totalStudents, inflationAdjustedGrossSalary, graduatesInBW, lags=LAGS)"
   ]
  },
  {
   "cell_type": "code",
   "execution_count": 5,
   "metadata": {
    "execution": {
     "iopub.execute_input": "2024-01-29T11:51:33.347325Z",
     "iopub.status.busy": "2024-01-29T11:51:33.347241Z",
     "iopub.status.idle": "2024-01-29T11:51:33.936172Z",
     "shell.execute_reply": "2024-01-29T11:51:33.935920Z"
    }
   },
   "outputs": [
    {
     "data": {

      "image/png": "[encoded data removed]",

      "text/plain": [
       "<Figure size 675x139.058 with 6 Axes>"
      ]
     },
     "metadata": {},
     "output_type": "display_data"
    }
   ],
   "source": [
    "params = results.params.to_numpy()\n",
    "\n",
    "paramsMatrices = []\n",
    "titles = ['Students', 'Salary', 'Graduates']\n",
    "\n",
    "for i in range(3):\n",
    "    reshapedCoefficients = params[1:, i].reshape((LAGS, 3))\n",
    "    df = pd.DataFrame(reshapedCoefficients)\n",
    "    df.columns = ['students', 'salary', 'graduates']\n",
    "    df.index = ['$t_{' + str(-i) + '}$' for i in range(1, LAGS + 1)]\n",
    "    paramsMatrices.append(df)\n",
    "\n",
    "plt.rcParams.update(bundles.icml2022(column=\"full\", nrows=1, ncols=3, usetex=False))\n",
    "\n",
    "fig, axs = plt.subplots(1, 3)\n",
    "\n",
    "for i, df in enumerate(paramsMatrices):\n",
    "    max_val = np.abs(df.values).max()\n",
    "    sns.heatmap(df, linewidths=0.5, ax=axs[i], cmap=sns.diverging_palette(220, 20, as_cmap=True), vmin=-max_val, vmax=max_val)\n",
    "    axs[i].set_title(titles[i])\n",
    "\n",
    "\n",
    "plt.savefig(FIG_DIR + '/params.pdf')\n",
    "plt.show()"
   ]
  },
  {
   "cell_type": "code",
   "execution_count": 6,
   "metadata": {
    "execution": {
     "iopub.execute_input": "2024-01-29T11:51:33.937524Z",
     "iopub.status.busy": "2024-01-29T11:51:33.937446Z",
     "iopub.status.idle": "2024-01-29T11:51:34.389582Z",
     "shell.execute_reply": "2024-01-29T11:51:34.389335Z"
    }
   },
   "outputs": [
    {
     "name": "stdout",
     "output_type": "stream",
     "text": [
      "          students    salary  graduates\n",
      "$t_{-1}$ -0.045562 -3.572034   0.005064\n",
      "$t_{-2}$ -0.131647  2.544324   0.024228\n",
      "$t_{-3}$ -0.469282 -1.255510   0.035706\n",
      "$t_{-4}$  0.034400  1.088611   0.028203\n",
      "$t_{-5}$ -0.115496  2.636204   0.023948\n"
     ]
    },
    {
     "data": {
      "image/png": "[encoded data removed]",
      "text/plain": [
       "<Figure size 325x200.861 with 2 Axes>"
      ]
     },
     "metadata": {},
     "output_type": "display_data"
    },
    {
     "name": "stdout",
     "output_type": "stream",
     "text": [
      "          students    salary  graduates\n",
      "$t_{-1}$ -0.094184  0.901745   0.003856\n",
      "$t_{-2}$  0.043620  0.316326   0.002316\n",
      "$t_{-3}$ -0.016679  0.113205  -0.001120\n",
      "$t_{-4}$  0.056651 -0.856672   0.003343\n",
      "$t_{-5}$ -0.055427  0.640145  -0.001424\n"
     ]
    },
    {
     "data": {

      "image/png": "[encoded data removed]",

      "text/plain": [
       "<Figure size 325x200.861 with 2 Axes>"
      ]
     },
     "metadata": {},
     "output_type": "display_data"
    },
    {
     "name": "stdout",
     "output_type": "stream",
     "text": [
      "          students     salary  graduates\n",
      "$t_{-1}$ -1.200435 -51.317389   0.191910\n",
      "$t_{-2}$ -1.785182  -2.244812   0.230852\n",
      "$t_{-3}$ -0.521885  -8.879252  -0.140927\n",
      "$t_{-4}$  2.433444  -0.011985   0.274919\n",
      "$t_{-5}$  4.349992  28.058727   0.358016\n"
     ]
    },
    {
     "data": {

      "image/png": "[encoded data removed]",

      "text/plain": [
       "<Figure size 325x200.861 with 2 Axes>"
      ]
     },
     "metadata": {},
     "output_type": "display_data"
    }
   ],
   "source": [
    "\n",
    "\n",
    "for i, df in enumerate(paramsMatrices):\n",
    "    max_val = np.abs(df.values).max()\n",
    "    plt.rcParams.update(bundles.icml2022(column=\"half\", nrows=1, ncols=1, usetex=False))\n",
    "    fig, axs = plt.subplots(1, 1)\n",
    "\n",
    "    print(df)\n",
    "    sns.heatmap(df, linewidths=0.5, ax=axs, cmap=sns.diverging_palette(220, 20, as_cmap=True), vmin=-max_val, vmax=max_val)\n",
    "    axs.set_title(titles[i])\n",
    "\n",
    "    plt.savefig(FIG_DIR + f'/params_{titles[i]}.pdf')\n",
    "    plt.show()"
   ]
  }
 ],
 "metadata": {
  "kernelspec": {
   "display_name": "dataLiteracy",
   "language": "python",
   "name": "python3"
  },
  "language_info": {
   "codemirror_mode": {
    "name": "ipython",
    "version": 3
   },
   "file_extension": ".py",
   "mimetype": "text/x-python",
   "name": "python",
   "nbconvert_exporter": "python",
   "pygments_lexer": "ipython3",
   "version": "3.11.7"
  }
 },
 "nbformat": 4,
 "nbformat_minor": 2
}
