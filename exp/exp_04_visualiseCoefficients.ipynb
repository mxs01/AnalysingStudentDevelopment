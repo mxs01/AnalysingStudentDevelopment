{
 "cells": [
  {
   "cell_type": "markdown",
   "metadata": {},
   "source": [
    "# What happens if we modfiy the salary?"
   ]
  },
  {
   "cell_type": "markdown",
   "metadata": {},
   "source": [
    "First: Create model similar to `exp_regression.ipynb`"
   ]
  },
  {
   "cell_type": "code",
   "execution_count": 1,
   "metadata": {},
   "outputs": [],
   "source": [
    "# To make realitve imports work\n",
    "import os\n",
    "import sys\n",
    "module_path = os.path.abspath(os.path.join('..'))\n",
    "if module_path not in sys.path:\n",
    "    sys.path.append(module_path)\n",
    "\n",
    "# actual imports\n",
    "from src.constants import YEARS, FIG_DIR\n",
    "from src.dataLoading import getAllCourses, getTotalStudentsFor, getSalaries, getGraduatesInBwFor, getAllGraduatesYears, getInflationAdjustedBruttoSalary\n",
    "import numpy as np\n",
    "from statsmodels.tsa.api import VAR\n",
    "import pandas as pd\n",
    "import seaborn as sns\n",
    "import matplotlib.pyplot as plt\n",
    "from tueplots import bundles"
   ]
  },
  {
   "cell_type": "code",
   "execution_count": 2,
   "metadata": {},
   "outputs": [
    {
     "name": "stdout",
     "output_type": "stream",
     "text": [
      "Create cummulative inflation:\n",
      "2.3 -> 1.023\n",
      "2.8 -> 1.051644\n",
      "0.2 -> 1.053747288\n",
      "1.1 -> 1.065338508168\n",
      "2.5 -> 1.0919719708722\n",
      "2.2 -> 1.1159953542313885\n",
      "1.6 -> 1.1338512798990907\n",
      "0.8 -> 1.1429220901382835\n",
      "0.7 -> 1.1509225447692513\n",
      "0.4 -> 1.1555262349483282\n",
      "1.7 -> 1.1751701809424497\n",
      "1.9 -> 1.1974984143803562\n",
      "1.4 -> 1.2142633921816812\n",
      "0.4 -> 1.219120445750408\n",
      "3.2 -> 1.258132300014421\n",
      "\n",
      "Adjust salary for inflation:\n",
      "4211.5 -> 4116.813294232649\n",
      "4251.0 -> 4155.4252199413495\n",
      "4302.5 -> 4091.2133763897286\n",
      "4317.0 -> 4105.001312231135\n",
      "4349.0 -> 4127.175509276376\n",
      "4375.0 -> 4151.8493568829945\n",
      "4428.0 -> 4156.425367195795\n",
      "4491.5 -> 4216.030834859963\n",
      "4538.0 -> 4155.784325100693\n",
      "4593.0 -> 4206.151918287238\n",
      "4584.0 -> 4107.54398091299\n",
      "4598.0 -> 4120.0888360030385\n",
      "4597.0 -> 4054.323597367301\n",
      "4655.5 -> 4105.9176653346685\n",
      "4805.0 -> 4204.136083692842\n",
      "4854.0 -> 4247.008647293455\n",
      "4927.5 -> 4281.348056300275\n",
      "5012.5 -> 4355.20185331408\n",
      "4930.0 -> 4266.4544091640255\n",
      "4999.0 -> 4326.1674627608445\n",
      "5064.0 -> 4309.163117071972\n",
      "5074.5 -> 4318.0979932033415\n",
      "5104.0 -> 4262.2185872714135\n",
      "5163.5 -> 4311.905500661432\n",
      "5355.5 -> 4410.492842395348\n",
      "5418.5 -> 4462.376149102641\n",
      "5355.0 -> 4392.51102601583\n",
      "5385.0 -> 4417.1189309234815\n",
      "5526.0 -> 4392.224887586672\n",
      "5592.5 -> 4445.0810140840495\n"
     ]
    }
   ],
   "source": [
    "courses = getAllCourses() # if you use all options, dont put that in the title down marked  there\n",
    "courses = ['\"Informatik\"']\n",
    "interestingYears = YEARS[3:-4]\n",
    "totalStudents = getTotalStudentsFor(courses = courses, years = interestingYears)\n",
    "\n",
    "SECTOR = ('WZ08-62', 'Dienstleistungen der Informationstechnologie')\n",
    "inflationAdjasutedBruttoSallary = getInflationAdjustedBruttoSalary(SECTOR)\n",
    "sallaries = getSalaries()\n",
    "SALLARY_YEARS = sallaries.index.levels[2]\n",
    "\n",
    "years = getAllGraduatesYears()\n",
    "years = years[37:52]\n",
    "graduatesInBW = getGraduatesInBwFor(years = years)"
   ]
  },
  {
   "cell_type": "markdown",
   "metadata": {},
   "source": [
    "### Build the model (once again)"
   ]
  },
  {
   "cell_type": "code",
   "execution_count": 3,
   "metadata": {},
   "outputs": [
    {
     "name": "stderr",
     "output_type": "stream",
     "text": [
      "/Users/paulkaifler/miniconda3/envs/dataLiteracy/lib/python3.11/site-packages/statsmodels/tsa/base/tsa_model.py:559: UserWarning: Could not infer format, so each element will be parsed individually, falling back to `dateutil`. To ensure parsing is consistent and as-expected, please specify a format.\n",
      "  _index = to_datetime(index)\n",
      "/Users/paulkaifler/miniconda3/envs/dataLiteracy/lib/python3.11/site-packages/statsmodels/tsa/base/tsa_model.py:473: ValueWarning: An unsupported index was provided and will be ignored when e.g. forecasting.\n",
      "  self._init_dates(dates, freq)\n"
     ]
    }
   ],
   "source": [
    "PAST_STEPS = 4\n",
    "PREDICTION_STPES = 2\n",
    "\n",
    "completeData = np.column_stack((totalStudents, inflationAdjasutedBruttoSallary, graduatesInBW.repeat(2)))\n",
    "completeDataDF = pd.DataFrame(completeData, index = YEARS[3:-4], columns = ['students', 'salary', 'graduates'], dtype = 'float64')\n",
    "model = VAR(completeDataDF)\n",
    "\n",
    "results = model.fit(maxlags=PAST_STEPS)"
   ]
  },
  {
   "cell_type": "code",
   "execution_count": 4,
   "metadata": {},
   "outputs": [
    {
     "data": {
      "image/png": "[encoded data removed]",
      "text/plain": [
       "<Figure size 675x139.058 with 6 Axes>"
      ]
     },
     "metadata": {},
     "output_type": "display_data"
    }
   ],
   "source": [
    "params = results.params.to_numpy()\n",
    "\n",
    "paramsMatrices = []\n",
    "titles = ['Students', 'Salary', 'Graduates']\n",
    "\n",
    "for i in range(PAST_STEPS - 1):\n",
    "    reshapedCoefficients = params[1:, i].reshape((PAST_STEPS, 3))\n",
    "    df = pd.DataFrame(reshapedCoefficients)\n",
    "    df.columns = ['students', 'sallary', 'graduates']\n",
    "    df.index = ['t-1', 't-2', 't-3', 't-4']\n",
    "    paramsMatrices.append(df)\n",
    "\n",
    "plt.rcParams.update(bundles.icml2022(column=\"full\", nrows=1, ncols=3, usetex=False))\n",
    "\n",
    "fig, axs = plt.subplots(1, 3)\n",
    "\n",
    "for i, df in enumerate(paramsMatrices):\n",
    "    sns.heatmap(df, linewidths=0.5, ax=axs[i], cmap=sns.diverging_palette(220, 20, as_cmap=True))\n",
    "    axs[i].set_title(titles[i])\n",
    "\n",
    "\n",
    "plt.savefig(FIG_DIR + '/params.pdf')\n",
    "plt.show()"
   ]
  }
 ],
 "metadata": {
  "kernelspec": {
   "display_name": "dataLiteracy",
   "language": "python",
   "name": "python3"
  },
  "language_info": {
   "codemirror_mode": {
    "name": "ipython",
    "version": 3
   },
   "file_extension": ".py",
   "mimetype": "text/x-python",
   "name": "python",
   "nbconvert_exporter": "python",
   "pygments_lexer": "ipython3",
   "version": "3.11.5"
  }
 },
 "nbformat": 4,
 "nbformat_minor": 2
}
