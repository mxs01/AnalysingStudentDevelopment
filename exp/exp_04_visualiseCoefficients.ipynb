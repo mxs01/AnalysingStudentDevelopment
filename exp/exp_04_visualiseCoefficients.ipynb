{
 "cells": [
  {
   "cell_type": "markdown",
   "metadata": {},
   "source": [
    "# What happens if we modfiy the salary?"
   ]
  },
  {
   "cell_type": "code",
   "execution_count": 1,
   "metadata": {
    "execution": {
     "iopub.execute_input": "2024-01-28T10:31:56.081339Z",
     "iopub.status.busy": "2024-01-28T10:31:56.081000Z",
     "iopub.status.idle": "2024-01-28T10:31:56.784102Z",
     "shell.execute_reply": "2024-01-28T10:31:56.783792Z"
    }
   },
   "outputs": [],
   "source": [
    "# To make relative imports work in notebooks\n",
    "import os\n",
    "import sys\n",
    "module_path = os.path.abspath(os.path.join('..'))\n",
    "if module_path not in sys.path:\n",
    "    sys.path.append(module_path)\n",
    "\n",
    "# actual imports\n",
    "from src.constants import YEARS, FIG_DIR, COURSES, SECTORS\n",
    "from src.dataLoading import getTotalStudentsFor, getSalaries, getGraduatesInBwFor, getAllGraduatesYears, getInflationAdjustedGrossSalaries\n",
    "from src.model import fitVarModel, predict\n",
    "import numpy as np\n",
    "import pandas as pd\n",
    "import seaborn as sns\n",
    "import matplotlib.pyplot as plt\n",
    "from tueplots import bundles"
   ]
  },
  {
   "cell_type": "code",
   "execution_count": 2,
   "metadata": {
    "execution": {
     "iopub.execute_input": "2024-01-28T10:31:56.786036Z",
     "iopub.status.busy": "2024-01-28T10:31:56.785891Z",
     "iopub.status.idle": "2024-01-28T10:32:02.385928Z",
     "shell.execute_reply": "2024-01-28T10:32:02.385638Z"
    }
   },
   "outputs": [
    {
     "name": "stderr",
     "output_type": "stream",
     "text": [
      "/Users/paulkaifler/AnalysingStudentDevelopment/src/dataLoading.py:36: FutureWarning: Setting an item of incompatible dtype is deprecated and will raise in a future error of pandas. Value '56919.375' has dtype incompatible with int64, please explicitly cast to a compatible dtype first.\n",
      "  graduatesInBW.loc[2012, ('Abiturienten insg', 'Anzahl')] = newVal + diff / 4\n",
      "/Users/paulkaifler/AnalysingStudentDevelopment/src/dataLoading.py:36: FutureWarning: Setting an item of incompatible dtype is deprecated and will raise in a future error of pandas. Value '56919.375' has dtype incompatible with int64, please explicitly cast to a compatible dtype first.\n",
      "  graduatesInBW.loc[2012, ('Abiturienten insg', 'Anzahl')] = newVal + diff / 4\n"
     ]
    }
   ],
   "source": [
    "interestingYears = YEARS[3:-4]\n",
    "totalStudents = getTotalStudentsFor(courses = COURSES, years = interestingYears)\n",
    "\n",
    "inflationAdjustedGrossSalary = getInflationAdjustedGrossSalaries(SECTORS)\n",
    "sallaries = getSalaries()\n",
    "\n",
    "years = getAllGraduatesYears()\n",
    "years = years[37:52]\n",
    "graduatesInBW = getGraduatesInBwFor(years = years)\n",
    "newVal = (graduatesInBW[4] + graduatesInBW[6])/2"
   ]
  },
  {
   "cell_type": "markdown",
   "metadata": {},
   "source": [
    "### Build the model (once again)"
   ]
  },
  {
   "cell_type": "code",
   "execution_count": 3,
   "metadata": {
    "execution": {
     "iopub.execute_input": "2024-01-28T10:32:02.403191Z",
     "iopub.status.busy": "2024-01-28T10:32:02.403091Z",
     "iopub.status.idle": "2024-01-28T10:32:02.404563Z",
     "shell.execute_reply": "2024-01-28T10:32:02.404355Z"
    }
   },
   "outputs": [],
   "source": [
    "LAGS = 4\n",
    "PREDICTION_STPES = 2"
   ]
  },
  {
   "cell_type": "code",
   "execution_count": 4,
   "metadata": {
    "execution": {
     "iopub.execute_input": "2024-01-28T10:32:02.405796Z",
     "iopub.status.busy": "2024-01-28T10:32:02.405733Z",
     "iopub.status.idle": "2024-01-28T10:32:02.409427Z",
     "shell.execute_reply": "2024-01-28T10:32:02.409232Z"
    }
   },
   "outputs": [
    {
     "name": "stderr",
     "output_type": "stream",
     "text": [
      "/Users/paulkaifler/miniconda3/envs/dataLiteracy/lib/python3.11/site-packages/statsmodels/tsa/base/tsa_model.py:559: UserWarning: Could not infer format, so each element will be parsed individually, falling back to `dateutil`. To ensure parsing is consistent and as-expected, please specify a format.\n",
      "  _index = to_datetime(index)\n",
      "/Users/paulkaifler/miniconda3/envs/dataLiteracy/lib/python3.11/site-packages/statsmodels/tsa/base/tsa_model.py:473: ValueWarning: An unsupported index was provided and will be ignored when e.g. forecasting.\n",
      "  self._init_dates(dates, freq)\n"
     ]
    }
   ],
   "source": [
    "dataset = np.column_stack((totalStudents, inflationAdjustedGrossSalary, graduatesInBW.repeat(2)))\n",
    "results = fitVarModel(totalStudents, inflationAdjustedGrossSalary, graduatesInBW, lags=LAGS)\n",
    "forecast = predict(results, 10)"
   ]
  },
  {
   "cell_type": "code",
   "execution_count": 5,
   "metadata": {
    "execution": {
     "iopub.execute_input": "2024-01-28T10:32:02.410709Z",
     "iopub.status.busy": "2024-01-28T10:32:02.410626Z",
     "iopub.status.idle": "2024-01-28T10:32:02.977409Z",
     "shell.execute_reply": "2024-01-28T10:32:02.977099Z"
    }
   },
   "outputs": [
    {
     "data": {
      "image/png": "[encoded data removed]",
      "text/plain": [
       "<Figure size 675x139.058 with 6 Axes>"
      ]
     },
     "metadata": {},
     "output_type": "display_data"
    }
   ],
   "source": [
    "params = results.params.to_numpy()\n",
    "\n",
    "paramsMatrices = []\n",
    "titles = ['Students', 'Salary', 'Graduates']\n",
    "\n",
    "for i in range(LAGS - 1):\n",
    "    reshapedCoefficients = params[1:, i].reshape((LAGS, 3))\n",
    "    df = pd.DataFrame(reshapedCoefficients)\n",
    "    df.columns = ['students', 'salary', 'graduates']\n",
    "    df.index = ['t-1', 't-2', 't-3', 't-4']\n",
    "    paramsMatrices.append(df)\n",
    "\n",
    "plt.rcParams.update(bundles.icml2022(column=\"full\", nrows=1, ncols=3, usetex=False))\n",
    "\n",
    "fig, axs = plt.subplots(1, 3)\n",
    "\n",
    "for i, df in enumerate(paramsMatrices):\n",
    "    sns.heatmap(df, linewidths=0.5, ax=axs[i], cmap=sns.diverging_palette(220, 20, as_cmap=True))\n",
    "    axs[i].set_title(titles[i])\n",
    "\n",
    "\n",
    "plt.savefig(FIG_DIR + '/params.pdf')\n",
    "plt.show()"
   ]
  }
 ],
 "metadata": {
  "kernelspec": {
   "display_name": "dataLiteracy",
   "language": "python",
   "name": "python3"
  },
  "language_info": {
   "codemirror_mode": {
    "name": "ipython",
    "version": 3
   },
   "file_extension": ".py",
   "mimetype": "text/x-python",
   "name": "python",
   "nbconvert_exporter": "python",
   "pygments_lexer": "ipython3",
   "version": "3.11.5"
  }
 },
 "nbformat": 4,
 "nbformat_minor": 2
}
