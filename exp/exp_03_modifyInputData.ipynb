{
 "cells": [
  {
   "cell_type": "markdown",
   "metadata": {},
   "source": [
    "# What happens if we modfiy the salary?"
   ]
  },
  {
   "cell_type": "markdown",
   "metadata": {},
   "source": [
    "First: Create model similar to `exp_regression.ipynb`"
   ]
  },
  {
   "cell_type": "code",
   "execution_count": 1,
   "metadata": {
    "execution": {
     "iopub.execute_input": "2024-01-21T14:13:29.618879Z",
     "iopub.status.busy": "2024-01-21T14:13:29.618566Z",
     "iopub.status.idle": "2024-01-21T14:13:30.297023Z",
     "shell.execute_reply": "2024-01-21T14:13:30.296623Z"
    }
   },
   "outputs": [],
   "source": [
    "# To make realitve imports work\n",
    "import os\n",
    "import sys\n",
    "module_path = os.path.abspath(os.path.join('..'))\n",
    "if module_path not in sys.path:\n",
    "    sys.path.append(module_path)\n",
    "\n",
    "# actual imports\n",
    "from src.constants import YEARS, COURSES, SECTORS\n",
    "from src.dataLoading import getAllCourses, getTotalStudentsFor, getSalaries, getGraduatesInBwFor, getAllGraduatesYears, getInflationAdjustedBruttoSalaries\n",
    "import numpy as np\n",
    "from statsmodels.tsa.api import VAR\n",
    "from src.salaryExpHelpers import plot, modifySalary\n",
    "import pandas as pd"
   ]
  },
  {
   "cell_type": "code",
   "execution_count": 2,
   "metadata": {
    "execution": {
     "iopub.execute_input": "2024-01-21T14:13:30.298690Z",
     "iopub.status.busy": "2024-01-21T14:13:30.298581Z",
     "iopub.status.idle": "2024-01-21T14:13:35.073902Z",
     "shell.execute_reply": "2024-01-21T14:13:35.073613Z"
    }
   },
   "outputs": [
    {
     "name": "stdout",
     "output_type": "stream",
     "text": [
      "Create cummulative inflation:\n",
      "2.3 -> 1.023\n",
      "2.8 -> 1.051644\n",
      "0.2 -> 1.053747288\n",
      "1.1 -> 1.065338508168\n",
      "2.5 -> 1.0919719708722\n",
      "2.2 -> 1.1159953542313885\n",
      "1.6 -> 1.1338512798990907\n",
      "0.8 -> 1.1429220901382835\n",
      "0.7 -> 1.1509225447692513\n",
      "0.4 -> 1.1555262349483282\n",
      "1.7 -> 1.1751701809424497\n",
      "1.9 -> 1.1974984143803562\n",
      "1.4 -> 1.2142633921816812\n",
      "0.4 -> 1.219120445750408\n",
      "3.2 -> 1.258132300014421\n",
      "\n",
      "Adjust salary for inflation:\n",
      "3798.0 -> 3712.609970674487\n",
      "3818.5 -> 3732.649071358749\n",
      "3905.0 -> 3713.2337559097946\n",
      "3951.5 -> 3757.4502398149943\n",
      "4001.5 -> 3797.4000460725265\n",
      "4072.5 -> 3864.7786299213703\n",
      "4093.0 -> 3841.971325187983\n",
      "4108.0 -> 3856.051356919676\n",
      "4194.0 -> 3840.7579240793984\n",
      "4268.5 -> 3908.9831184866266\n",
      "4365.5 -> 3911.754635400449\n",
      "4488.5 -> 4021.9701479773025\n",
      "4474.0 -> 3945.8437621538624\n",
      "4500.5 -> 3969.2154339681397\n",
      "4554.5 -> 3984.961039163173\n",
      "4653.0 -> 4071.1436415031826\n",
      "4724.0 -> 4104.533377567224\n",
      "4799.5 -> 4170.132926679486\n",
      "4769.0 -> 4127.123950771447\n",
      "4849.5 -> 4196.789179967736\n",
      "4905.5 -> 4174.289034517488\n",
      "4966.5 -> 4226.196410137825\n",
      "4984.5 -> 4162.427223404068\n",
      "5000.5 -> 4175.788410198023\n",
      "5000.5 -> 4118.134526822507\n",
      "5061.0 -> 4167.958972152526\n",
      "5121.0 -> 4200.569367736147\n",
      "5182.5 -> 4251.015572796832\n",
      "5174.5 -> 4112.842504671957\n",
      "5250.0 -> 4172.852091898303\n",
      "\n",
      "Adjust salary for inflation:\n",
      "3678.0 -> 3595.307917888563\n",
      "3691.5 -> 3608.50439882698\n",
      "3760.5 -> 3575.8298435592274\n",
      "3804.5 -> 3617.6690971469434\n",
      "3778.0 -> 3585.299856069475\n",
      "3877.5 -> 3679.7247728717284\n",
      "3942.5 -> 3700.701673479996\n",
      "3940.0 -> 3698.3550015247138\n",
      "4020.0 -> 3681.4131747256033\n",
      "4076.5 -> 3733.1544295445083\n",
      "4158.0 -> 3725.821961744374\n",
      "4278.0 -> 3833.3492910876466\n",
      "4322.5 -> 3812.228355366578\n",
      "4360.5 -> 3845.742450798372\n",
      "4391.0 -> 3841.9066687815334\n",
      "4471.0 -> 3911.902690986617\n",
      "4519.0 -> 3926.4153965339306\n",
      "4580.0 -> 3979.4163567438372\n",
      "4582.0 -> 3965.292921458329\n",
      "4639.0 -> 4014.6210961687448\n",
      "4635.5 -> 3944.535076853698\n",
      "4711.5 -> 4009.206561233135\n",
      "4755.5 -> 3971.195237415597\n",
      "4835.0 -> 4037.583634298058\n",
      "4898.0 -> 4033.7212103542925\n",
      "4917.5 -> 4049.780329097026\n",
      "4860.5 -> 3986.8907267880377\n",
      "4881.0 -> 4003.706128474933\n",
      "4980.5 -> 3958.6456845141906\n",
      "5039.5 -> 4005.5405937374285\n",
      "\n",
      "Adjust salary for inflation:\n",
      "3532.5 -> 3453.079178885631\n",
      "3600.0 -> 3519.061583577713\n",
      "3623.0 -> 3445.0821760976146\n",
      "3750.0 -> 3565.8454762257948\n",
      "3750.0 -> 3558.728020185424\n",
      "3753.0 -> 3561.575002601572\n",
      "3762.0 -> 3531.2719583086227\n",
      "3768.0 -> 3536.9039710013\n",
      "3775.0 -> 3457.048441440088\n",
      "3863.5 -> 3538.0944777493455\n",
      "4069.5 -> 3646.5205563537115\n",
      "4139.5 -> 3709.2448318039533\n",
      "4135.0 -> 3646.8627529070677\n",
      "4187.5 -> 3693.1651215957304\n",
      "4238.0 -> 3708.0392763143104\n",
      "4308.0 -> 3769.285795743759\n",
      "4393.0 -> 3816.9380033134667\n",
      "4447.5 -> 3864.291320222318\n",
      "4516.5 -> 3908.6087908700447\n",
      "4609.5 -> 3989.09160223967\n",
      "4661.5 -> 3966.659532036137\n",
      "4710.5 -> 4008.355620649195\n",
      "4906.0 -> 4096.87390069623\n",
      "5061.0 -> 4226.3103977626615\n",
      "5098.0 -> 4198.430120536174\n",
      "5169.0 -> 4256.901783650743\n",
      "5307.0 -> 4353.138378163587\n",
      "5364.0 -> 4399.893397488126\n",
      "5386.0 -> 4280.948831802716\n",
      "5447.0 -> 4329.433398965725\n",
      "\n",
      "Adjust salary for inflation:\n",
      "2862.0 -> 2797.653958944282\n",
      "2916.0 -> 2850.4398826979473\n",
      "2934.0 -> 2789.917500599062\n",
      "3013.5 -> 2865.513424695049\n",
      "2881.0 -> 2734.0521136411217\n",
      "2927.5 -> 2778.180341091421\n",
      "3009.5 -> 2824.9236997686867\n",
      "3103.0 -> 2912.68923089624\n",
      "3101.5 -> 2840.2743685103133\n",
      "3168.5 -> 2901.63125475574\n",
      "3086.5 -> 2765.6925168167418\n",
      "3131.5 -> 2806.0152653204686\n",
      "3264.0 -> 2878.6844076151556\n",
      "3323.0 -> 2930.7194505224147\n",
      "3233.5 -> 2829.151722501728\n",
      "3306.0 -> 2892.585617625085\n",
      "3282.0 -> 2851.6254329330295\n",
      "3341.0 -> 2902.8886567426116\n",
      "3356.0 -> 2904.304461897458\n",
      "3399.0 -> 2941.5169445737365\n",
      "3453.0 -> 2938.297836344692\n",
      "3532.5 -> 3005.9476127679186\n",
      "3522.5 -> 2941.548780106496\n",
      "3597.5 -> 3004.179343203157\n",
      "3616.0 -> 2977.937096088428\n",
      "3666.0 -> 3019.1143236338985\n",
      "3678.5 -> 3017.3392734265603\n",
      "3740.0 -> 3067.785478487246\n",
      "3748.5 -> 2979.4163936153886\n",
      "3840.0 -> 3052.143244359902\n",
      "\n",
      "Adjust salary for inflation:\n",
      "4211.5 -> 4116.813294232649\n",
      "4251.0 -> 4155.4252199413495\n",
      "4302.5 -> 4091.2133763897286\n",
      "4317.0 -> 4105.001312231135\n",
      "4349.0 -> 4127.175509276376\n",
      "4375.0 -> 4151.8493568829945\n",
      "4428.0 -> 4156.425367195795\n",
      "4491.5 -> 4216.030834859963\n",
      "4538.0 -> 4155.784325100693\n",
      "4593.0 -> 4206.151918287238\n",
      "4584.0 -> 4107.54398091299\n",
      "4598.0 -> 4120.0888360030385\n",
      "4597.0 -> 4054.323597367301\n",
      "4655.5 -> 4105.9176653346685\n",
      "4805.0 -> 4204.136083692842\n",
      "4854.0 -> 4247.008647293455\n",
      "4927.5 -> 4281.348056300275\n",
      "5012.5 -> 4355.20185331408\n",
      "4930.0 -> 4266.4544091640255\n",
      "4999.0 -> 4326.1674627608445\n",
      "5064.0 -> 4309.163117071972\n",
      "5074.5 -> 4318.0979932033415\n",
      "5104.0 -> 4262.2185872714135\n",
      "5163.5 -> 4311.905500661432\n",
      "5355.5 -> 4410.492842395348\n",
      "5418.5 -> 4462.376149102641\n",
      "5355.0 -> 4392.51102601583\n",
      "5385.0 -> 4417.1189309234815\n",
      "5526.0 -> 4392.224887586672\n",
      "5592.5 -> 4445.0810140840495\n",
      "\n",
      "Adjust salary for inflation:\n",
      "3612.5 -> 3531.28054740958\n",
      "3696.0 -> 3612.903225806452\n",
      "3734.5 -> 3551.106648257395\n",
      "3778.5 -> 3592.945901845111\n",
      "3680.5 -> 3492.772927544654\n",
      "3720.5 -> 3530.7326930932986\n",
      "3828.5 -> 3593.6934323191285\n",
      "3906.5 -> 3666.9095973239328\n",
      "3973.5 -> 3638.829664122434\n",
      "4010.0 -> 3672.2554305098683\n",
      "3948.0 -> 3537.6491353936485\n",
      "4029.0 -> 3610.230082700357\n",
      "4014.0 -> 3540.146817453197\n",
      "4107.0 -> 3622.168156273114\n",
      "4193.5 -> 3669.1039889627327\n",
      "4251.5 -> 3719.8511050614184\n",
      "4282.0 -> 3720.4936330954392\n",
      "4377.5 -> 3803.4705462109496\n",
      "4417.5 -> 3822.933540057217\n",
      "4496.5 -> 3891.3006593927057\n",
      "4524.0 -> 3849.655201744392\n",
      "4568.0 -> 3887.0965874377503\n",
      "4642.0 -> 3876.4143185959842\n",
      "4718.5 -> 3940.297492954578\n",
      "4779.0 -> 3935.7194087960725\n",
      "4777.5 -> 3934.4840919697085\n",
      "4591.0 -> 3765.829714367633\n",
      "4602.0 -> 3774.852612833772\n",
      "4752.5 -> 3777.4246793803213\n",
      "4829.0 -> 3838.229095576554\n",
      "\n",
      "Adjust salary for inflation:\n",
      "3454.0 -> 3376.3440860215055\n",
      "3507.5 -> 3428.6412512218967\n",
      "3602.5 -> 3425.588887494247\n",
      "3611.0 -> 3433.671470573692\n",
      "3690.5 -> 3502.2628689318153\n",
      "3702.0 -> 3513.176301527051\n",
      "3714.5 -> 3486.685191158261\n",
      "3724.0 -> 3495.6025445883333\n",
      "3795.5 -> 3475.821817082345\n",
      "3841.0 -> 3517.489553263941\n",
      "3528.0 -> 3161.3034826921967\n",
      "3561.0 -> 3190.873498261596\n",
      "3621.5 -> 3193.9814896379553\n",
      "3652.0 -> 3220.880960971369\n",
      "3817.5 -> 3340.1226845988394\n",
      "3867.0 -> 3383.4327233382346\n",
      "3921.5 -> 3407.2666469368905\n",
      "3926.5 -> 3411.6109879377027\n",
      "3967.5 -> 3433.5005818170935\n",
      "3963.5 -> 3430.0389555216257\n",
      "3998.5 -> 3402.4859248839416\n",
      "4068.0 -> 3461.626295467769\n",
      "4104.0 -> 3427.1444126492715\n",
      "4139.0 -> 3456.372008761047\n",
      "4200.0 -> 3458.887113819524\n",
      "4216.5 -> 3472.4755989095293\n",
      "4301.0 -> 3527.953300260333\n",
      "4317.5 -> 3541.4876479595414\n",
      "4314.0 -> 3428.8921760855774\n",
      "4409.0 -> 3504.4009282246893\n",
      "\n",
      "Adjust salary for inflation:\n",
      "4157.0 -> 4063.538611925709\n",
      "4310.0 -> 4213.098729227762\n",
      "4343.0 -> 4129.724507532967\n",
      "4367.0 -> 4152.545918580812\n",
      "4245.0 -> 4028.4801188499\n",
      "4505.0 -> 4275.218594916089\n",
      "4455.0 -> 4181.769424312843\n",
      "4451.5 -> 4178.484083575448\n",
      "4543.0 -> 4160.363197208561\n",
      "4613.0 -> 4224.467406718709\n",
      "4693.0 -> 4205.214638399795\n",
      "4827.5 -> 4325.734853372046\n",
      "4782.5 -> 4217.925300067243\n",
      "4933.5 -> 4351.099731914635\n",
      "5000.5 -> 4375.188862956515\n",
      "5077.5 -> 4442.560034328908\n",
      "4811.5 -> 4180.559345081435\n",
      "5126.0 -> 4453.818394032513\n",
      "5266.5 -> 4557.663721270251\n",
      "5415.5 -> 4686.609300776426\n",
      "5464.5 -> 4649.964820939927\n",
      "5523.5 -> 4700.1703153923845\n",
      "5470.0 -> 4567.855735183118\n",
      "5579.5 -> 4659.2963573042425\n",
      "5580.0 -> 4595.37859407451\n",
      "5613.5 -> 4622.967336529976\n",
      "5721.5 -> 4693.137597637641\n",
      "5695.0 -> 4671.400614969216\n",
      "5770.5 -> 4586.560570723649\n",
      "5778.0 -> 4592.52178799779\n",
      "\n",
      "Adjust salary for inflation:\n",
      "3204.5 -> 3132.4535679374394\n",
      "3257.0 -> 3183.7732160312808\n",
      "3261.5 -> 3101.334672189448\n",
      "3335.0 -> 3171.2252435234736\n",
      "3403.0 -> 3229.427054050933\n",
      "3453.5 -> 3277.3512580560964\n",
      "3457.0 -> 3244.977979764197\n",
      "3519.5 -> 3303.6447786462513\n",
      "3555.5 -> 3256.0359559046974\n",
      "3626.0 -> 3320.598052625631\n",
      "3641.5 -> 3263.0064150293747\n",
      "3727.5 -> 3340.067667725386\n",
      "3725.5 -> 3285.704277135497\n",
      "3780.0 -> 3333.770545583728\n",
      "3767.5 -> 3296.375170720662\n",
      "3858.0 -> 3375.558170840163\n",
      "3873.5 -> 3365.560973329095\n",
      "3945.0 -> 3427.6850496407073\n",
      "3997.5 -> 3459.4627790331015\n",
      "4095.5 -> 3544.272623272062\n",
      "4132.0 -> 3516.0864928399264\n",
      "4232.5 -> 3601.6060215258926\n",
      "4218.5 -> 3522.760405643507\n",
      "4339.0 -> 3623.386843685475\n",
      "4366.0 -> 3595.595509270486\n",
      "4480.0 -> 3689.479588074159\n",
      "4458.0 -> 3656.734669277044\n",
      "4562.5 -> 3742.452204705364\n",
      "4607.0 -> 3661.7770642619967\n",
      "4688.5 -> 3726.555625307656\n"
     ]
    },
    {
     "name": "stderr",
     "output_type": "stream",
     "text": [
      "/Users/abdallahabdul-latif/Desktop/Universität Tübingen/5.Semester/Data Literacy/Neuer Ordner/AnalysingStudentDevelopment/src/dataLoading.py:35: FutureWarning: Setting an item of incompatible dtype is deprecated and will raise in a future error of pandas. Value '56919.375' has dtype incompatible with int64, please explicitly cast to a compatible dtype first.\n",
      "  graduatesInBW.loc[2012, ('Abiturienten insg', 'Anzahl')] = newVal + diff / 4\n",
      "/Users/abdallahabdul-latif/Desktop/Universität Tübingen/5.Semester/Data Literacy/Neuer Ordner/AnalysingStudentDevelopment/src/dataLoading.py:35: FutureWarning: Setting an item of incompatible dtype is deprecated and will raise in a future error of pandas. Value '56919.375' has dtype incompatible with int64, please explicitly cast to a compatible dtype first.\n",
      "  graduatesInBW.loc[2012, ('Abiturienten insg', 'Anzahl')] = newVal + diff / 4\n"
     ]
    }
   ],
   "source": [
    "interestingYears = YEARS[3:-4]\n",
    "totalStudents = getTotalStudentsFor(courses = COURSES, years = interestingYears)\n",
    "\n",
    "inflationAdjasutedBruttoSallary = getInflationAdjustedBruttoSalaries(SECTORS)\n",
    "sallaries = getSalaries()\n",
    "\n",
    "years = getAllGraduatesYears()\n",
    "years = years[37:52]\n",
    "graduatesInBW = getGraduatesInBwFor(years = years)"
   ]
  },
  {
   "cell_type": "markdown",
   "metadata": {},
   "source": [
    "### Build the model (once again)"
   ]
  },
  {
   "cell_type": "code",
   "execution_count": 3,
   "metadata": {
    "execution": {
     "iopub.execute_input": "2024-01-21T14:13:35.075363Z",
     "iopub.status.busy": "2024-01-21T14:13:35.075289Z",
     "iopub.status.idle": "2024-01-21T14:13:35.078922Z",
     "shell.execute_reply": "2024-01-21T14:13:35.078704Z"
    }
   },
   "outputs": [
    {
     "name": "stderr",
     "output_type": "stream",
     "text": [
      "/usr/local/lib/python3.9/site-packages/statsmodels/tsa/base/tsa_model.py:559: UserWarning: Could not infer format, so each element will be parsed individually, falling back to `dateutil`. To ensure parsing is consistent and as-expected, please specify a format.\n",
      "  _index = to_datetime(index)\n",
      "/usr/local/lib/python3.9/site-packages/statsmodels/tsa/base/tsa_model.py:473: ValueWarning: An unsupported index was provided and will be ignored when e.g. forecasting.\n",
      "  self._init_dates(dates, freq)\n"
     ]
    }
   ],
   "source": [
    "PAST_STEPS = 4\n",
    "PREDICTION_STPES = 2\n",
    "\n",
    "completeData = np.column_stack((totalStudents, inflationAdjasutedBruttoSallary, graduatesInBW.repeat(2)))\n",
    "completeDataDF = pd.DataFrame(completeData, index = YEARS[3:-4], columns = ['students', 'sallary', 'graduates'])\n",
    "model = VAR(completeDataDF)\n",
    "\n",
    "results = model.fit(maxlags=PAST_STEPS)"
   ]
  },
  {
   "cell_type": "markdown",
   "metadata": {},
   "source": [
    "### Forecasting\n",
    "Modify the salary expectation, to see how the model would react."
   ]
  },
  {
   "cell_type": "markdown",
   "metadata": {},
   "source": [
    "#### 10% salary increase"
   ]
  },
  {
   "cell_type": "code",
   "execution_count": 4,
   "metadata": {
    "execution": {
     "iopub.execute_input": "2024-01-21T14:13:35.080287Z",
     "iopub.status.busy": "2024-01-21T14:13:35.080221Z",
     "iopub.status.idle": "2024-01-21T14:13:35.322318Z",
     "shell.execute_reply": "2024-01-21T14:13:35.321638Z"
    }
   },
   "outputs": [
    {
     "ename": "TypeError",
     "evalue": "plot() missing 2 required positional arguments: 'name' and 'lags'",
     "output_type": "error",
     "traceback": [
      "\u001b[0;31m---------------------------------------------------------------------------\u001b[0m",
      "\u001b[0;31mTypeError\u001b[0m                                 Traceback (most recent call last)",
      "Cell \u001b[0;32mIn[4], line 4\u001b[0m\n\u001b[1;32m      2\u001b[0m lagged_values \u001b[38;5;241m=\u001b[39m modifiedSalary[\u001b[38;5;241m-\u001b[39mPAST_STEPS:]  \u001b[38;5;66;03m# Use the last available values as lagged values\u001b[39;00m\n\u001b[1;32m      3\u001b[0m forecast \u001b[38;5;241m=\u001b[39m results\u001b[38;5;241m.\u001b[39mforecast(lagged_values, steps\u001b[38;5;241m=\u001b[39mPREDICTION_STPES)\n\u001b[0;32m----> 4\u001b[0m \u001b[43mplot\u001b[49m\u001b[43m(\u001b[49m\u001b[43mcompleteData\u001b[49m\u001b[43m,\u001b[49m\u001b[43m \u001b[49m\u001b[43mforecast\u001b[49m\u001b[43m,\u001b[49m\u001b[43m \u001b[49m\u001b[43mYEARS\u001b[49m\u001b[43m[\u001b[49m\u001b[38;5;241;43m3\u001b[39;49m\u001b[43m:\u001b[49m\u001b[38;5;241;43m-\u001b[39;49m\u001b[38;5;241;43m4\u001b[39;49m\u001b[43m]\u001b[49m\u001b[43m)\u001b[49m\n",
      "\u001b[0;31mTypeError\u001b[0m: plot() missing 2 required positional arguments: 'name' and 'lags'"
     ]
    }
   ],
   "source": [
    "modifiedSalary = modifySalary(completeData, lambda x: x * 1.1)\n",
    "lagged_values = modifiedSalary[-PAST_STEPS:]  # Use the last available values as lagged values\n",
    "forecast = results.forecast(lagged_values, steps=PREDICTION_STPES)\n",
    "plot(completeData, forecast, YEARS[3:-4])"
   ]
  },
  {
   "cell_type": "markdown",
   "metadata": {},
   "source": [
    "#### 30% salary incrase"
   ]
  },
  {
   "cell_type": "code",
   "execution_count": null,
   "metadata": {
    "execution": {
     "iopub.execute_input": "2024-01-21T14:13:35.328415Z",
     "iopub.status.busy": "2024-01-21T14:13:35.327700Z",
     "iopub.status.idle": "2024-01-21T14:13:35.519359Z",
     "shell.execute_reply": "2024-01-21T14:13:35.519104Z"
    }
   },
   "outputs": [
    {
     "ename": "TypeError",
     "evalue": "plot() missing 2 required positional arguments: 'name' and 'lags'",
     "output_type": "error",
     "traceback": [
      "\u001b[0;31m---------------------------------------------------------------------------\u001b[0m",
      "\u001b[0;31mTypeError\u001b[0m                                 Traceback (most recent call last)",
      "Cell \u001b[0;32mIn[10], line 4\u001b[0m\n\u001b[1;32m      2\u001b[0m lagged_values \u001b[38;5;241m=\u001b[39m modifiedSalary[\u001b[38;5;241m-\u001b[39mPAST_STEPS:]  \u001b[38;5;66;03m# Use the last available values as lagged values\u001b[39;00m\n\u001b[1;32m      3\u001b[0m forecast \u001b[38;5;241m=\u001b[39m results\u001b[38;5;241m.\u001b[39mforecast(lagged_values, steps\u001b[38;5;241m=\u001b[39mPREDICTION_STPES)\n\u001b[0;32m----> 4\u001b[0m \u001b[43mplot\u001b[49m\u001b[43m(\u001b[49m\u001b[43mcompleteData\u001b[49m\u001b[43m,\u001b[49m\u001b[43m \u001b[49m\u001b[43mforecast\u001b[49m\u001b[43m,\u001b[49m\u001b[43m \u001b[49m\u001b[43mYEARS\u001b[49m\u001b[43m[\u001b[49m\u001b[38;5;241;43m3\u001b[39;49m\u001b[43m:\u001b[49m\u001b[38;5;241;43m-\u001b[39;49m\u001b[38;5;241;43m4\u001b[39;49m\u001b[43m]\u001b[49m\u001b[43m)\u001b[49m\n",
      "\u001b[0;31mTypeError\u001b[0m: plot() missing 2 required positional arguments: 'name' and 'lags'"
     ]
    }
   ],
   "source": [
    "modifiedSalary = modifySalary(completeData, lambda x: x * 1.3)\n",
    "lagged_values = modifiedSalary[-PAST_STEPS:]  # Use the last available values as lagged values\n",
    "forecast = results.forecast(lagged_values, steps=PREDICTION_STPES)\n",
    "plot(completeData, forecast, YEARS[3:-4])"
   ]
  },
  {
   "cell_type": "markdown",
   "metadata": {},
   "source": [
    "#### 10% salary reduction"
   ]
  },
  {
   "cell_type": "code",
   "execution_count": null,
   "metadata": {
    "execution": {
     "iopub.execute_input": "2024-01-21T14:13:35.521026Z",
     "iopub.status.busy": "2024-01-21T14:13:35.520915Z",
     "iopub.status.idle": "2024-01-21T14:13:35.742340Z",
     "shell.execute_reply": "2024-01-21T14:13:35.742080Z"
    }
   },
   "outputs": [
    {
     "data": {
      "image/png": "[encoded data removed]",
      "text/plain": [
       "<Figure size 675x417.173 with 2 Axes>"
      ]
     },
     "metadata": {},
     "output_type": "display_data"
    }
   ],
   "source": [
    "modifiedSalary = modifySalary(completeData, lambda x: x * 0.9)\n",
    "lagged_values = modifiedSalary[-PAST_STEPS:]  # Use the last available values as lagged values\n",
    "forecast = results.forecast(lagged_values, steps=PREDICTION_STPES)\n",
    "plot(completeData, forecast, YEARS[3:-4])"
   ]
  }
 ],
 "metadata": {
  "kernelspec": {
   "display_name": "dataLiteracy",
   "language": "python",
   "name": "python3"
  },
  "language_info": {
   "codemirror_mode": {
    "name": "ipython",
    "version": 3
   },
   "file_extension": ".py",
   "mimetype": "text/x-python",
   "name": "python",
   "nbconvert_exporter": "python",
   "pygments_lexer": "ipython3",
   "version": "3.9.10"
  }
 },
 "nbformat": 4,
 "nbformat_minor": 2
}
